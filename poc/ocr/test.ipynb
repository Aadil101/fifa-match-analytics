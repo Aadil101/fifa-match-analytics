{
 "cells": [
  {
   "cell_type": "code",
   "execution_count": 1,
   "id": "f67ea626",
   "metadata": {},
   "outputs": [
    {
     "name": "stderr",
     "output_type": "stream",
     "text": [
      "c:\\Users\\aislam\\Documents\\fifa-match-analytics\\.venv\\Lib\\site-packages\\tqdm\\auto.py:21: TqdmWarning: IProgress not found. Please update jupyter and ipywidgets. See https://ipywidgets.readthedocs.io/en/stable/user_install.html\n",
      "  from .autonotebook import tqdm as notebook_tqdm\n"
     ]
    }
   ],
   "source": [
    "from PIL import Image\n",
    "from paddleocr import PaddleOCR\n",
    "import numpy as np \n",
    "import re\n",
    "from difflib import get_close_matches"
   ]
  },
  {
   "cell_type": "code",
   "execution_count": 5,
   "id": "f198e93c",
   "metadata": {},
   "outputs": [],
   "source": [
    "class MatchFactsAnalyzer:\n",
    "    def __init__(self, image_width: int, image_height: int):\n",
    "        self.image_width = image_width # size of FIFA window\n",
    "        self.image_height = image_height # size of FIFA window\n",
    "        self.res = {}\n",
    "        self.stat_names = {\n",
    "            'matchfacts-summary': ['Possession %', 'Shots', 'Expected Goals', 'Passes', 'Tackles', 'Tackles Won', 'Interceptions', 'Saves', 'Fouls Commited', 'Offsides', 'Corners', 'Free Kicks', 'Penalty Kicks', 'Yellow Cards', 'Red Cards'],\n",
    "            'matchfacts-possession': [\"15'\", \"30'\", \"45'\", \"60'\", \"75'\", \"90'\"],\n",
    "            'matchfacts-passing': ['Total Passes', 'Completed', 'Intercepted', 'Offside', 'Ground', 'Lob', 'Through', 'Lofted Through', 'Cross', 'Set Pieces', 'Key Pass', 'First Time', 'Pass and Go', 'Down Wing', 'Breakaway']\n",
    "        }\n",
    "        # Initialize PaddleOCR instance\n",
    "        self.ocr = PaddleOCR(\n",
    "            use_doc_orientation_classify=False,\n",
    "            use_doc_unwarping=False,\n",
    "            use_textline_orientation=False)\n",
    "\n",
    "    def get_boxes(self, image_type: str) -> np.array:\n",
    "        # TODO: Make image_type an enum\n",
    "        return self.res[image_type]['rec_boxes']\n",
    "\n",
    "    def get_texts(self, image_type: str) -> np.array:\n",
    "        return np.array(self.res[image_type]['rec_texts'], dtype=object)\n",
    "    \n",
    "    def get_confs(self, image_type: str) -> np.array:\n",
    "        return np.array(self.res[image_type]['rec_scores'])\n",
    "        \n",
    "    def is_cross_x_mid(self, boxes: np.array) -> np.array:\n",
    "        # We use the fact that statistics are centered on screen\n",
    "        return np.logical_and(boxes[:,0] <= self.image_width//2, self.image_width//2 <= boxes[:,2])\n",
    "    \n",
    "    def find_closest_opposites_to_target(self, nums: np.array, target: int, tolerance: float):\n",
    "        # Partition into values on either side of the target\n",
    "        lower_indices = np.where(nums < target)[0]\n",
    "        upper_indices = np.where(nums > target)[0]\n",
    "\n",
    "        if lower_indices.size == 0 or upper_indices.size == 0:\n",
    "            raise ValueError(\"Array must contain values both less than and greater than the target.\")\n",
    "\n",
    "        # Sort each by proximity to the target\n",
    "        lower_sorted = lower_indices[np.argsort(np.abs(nums[lower_indices] - target))]\n",
    "        upper_sorted = upper_indices[np.argsort(np.abs(nums[upper_indices] - target))]\n",
    "\n",
    "        # Try all combinations, return first pair within relative tolerance\n",
    "        for i in lower_sorted:\n",
    "            for j in upper_sorted:\n",
    "                dist_i = abs(nums[i] - target)\n",
    "                dist_j = abs(nums[j] - target)\n",
    "                rel_diff = abs(dist_i - dist_j) / max(dist_i, dist_j)\n",
    "\n",
    "                if rel_diff <= tolerance:\n",
    "                    return i, j\n",
    "\n",
    "        raise ValueError(\"No values on opposite sides of target with approximately equal relative distances found.\")\n",
    "\n",
    "    def perform_ocr(self, image_path: str, image_type: str):\n",
    "        # TODO: make image_type an enum\n",
    "\n",
    "        # Run OCR inference on an image \n",
    "        result = self.ocr.predict(input=image_path)\n",
    "\n",
    "        # Visualize the results and save the JSON results\n",
    "        for res in result:\n",
    "            res.save_to_img(\"output\")\n",
    "            res.save_to_json(\"output\")\n",
    "            self.res[image_type] = res\n",
    "\n",
    "    def get_score(self) -> tuple: \n",
    "        # Can use summary image (other images also display score)\n",
    "        boxes = self.get_boxes('matchfacts-summary')\n",
    "        texts = self.get_texts('matchfacts-summary')\n",
    "        \n",
    "        # We could search every single text, but let's optimize by searching along center of FIFA window\n",
    "        pattern = re.compile(r'\\d+\\s*:\\s*\\d+')\n",
    "        for text in texts[self.is_cross_x_mid(boxes)]:\n",
    "            if pattern.match(text):\n",
    "                return tuple(map(int, text.split(':')))\n",
    "            \n",
    "        raise Exception('unable to find score in matchfacts-summary')\n",
    "    \n",
    "    def get_stats(self, image_type: str, cutoff=0.9, tolerance=5e-2): # TODO: tune parameters?\n",
    "        # Need to use specific image\n",
    "        boxes = self.get_boxes(image_type)\n",
    "        texts = self.get_texts(image_type)\n",
    "        stat_names = self.stat_names[image_type]\n",
    "\n",
    "        # Match expected stat names to actual ones found in image\n",
    "        matches = []\n",
    "        texts_cross_x_mid = texts[self.is_cross_x_mid(boxes)]\n",
    "        for sn in stat_names:\n",
    "            ms = get_close_matches(word=sn, possibilities=texts_cross_x_mid, n=1, cutoff=cutoff)\n",
    "            if not ms or len(ms) > 1: # should only be one\n",
    "                raise Exception(f'unable to match statistic name \\'{sn}\\' in \\'{image_type}\\'')\n",
    "            matches.append(ms[0])\n",
    "\n",
    "        # Find possible boxes containing stats for each stat name\n",
    "        is_stat_name = np.isin(texts, matches)\n",
    "        stat_name_boxes = boxes[is_stat_name]\n",
    "        stat_name_boxes_y_mid = stat_name_boxes[:,[1,3]].mean(axis=1)\n",
    "        boxes_above_y_mid = (boxes[:,1][:, np.newaxis] <= stat_name_boxes_y_mid)\n",
    "        boxes_below_y_mid = (stat_name_boxes_y_mid <= boxes[:,3][:, np.newaxis])\n",
    "        boxes_cross_y_mid = boxes_above_y_mid & boxes_below_y_mid\n",
    "        possible_stat_boxes = [np.where(boxes_cross_y_mid[:, j] & ~is_stat_name)[0] for j in range(len(stat_names))]\n",
    "\n",
    "        # Identify which boxes (referred to as \"candidates\" below) actually contain stats\n",
    "        stats = {}\n",
    "        for i, candidates in enumerate(possible_stat_boxes):\n",
    "            if len(candidates) < 2:\n",
    "                raise Exception(f'unable to find two values for statistic: {stat_names[i]}')\n",
    "            \n",
    "            # Usually, they stats will be organized like this:\n",
    "            #           LEFT_TEAM_STAT               STAT_NAME               RIGHT_TEAM_STAT\n",
    "            # But, there may be some extra boxes like this (which we must ignore):\n",
    "            #  BOGUS    LEFT_TEAM_STAT    BOGUS      STAT_NAME               RIGHT_TEAM_STAT    BOGUS\n",
    "            candidates_x_mid = boxes[candidates][:,[0,2]].mean(axis=1)\n",
    "            left_candidate_idx, right_candidate_idx = self.find_closest_opposites_to_target(nums=candidates_x_mid, target=self.image_width//2, tolerance=tolerance)\n",
    "            left_text, right_text = texts[candidates[left_candidate_idx]], texts[candidates[right_candidate_idx]]\n",
    "            left_stat, right_stat = float(left_text.strip('I')), float(right_text.strip('I')) # due to poor OCR, a bar indicating match high can sometimes be interpretted as the character 'I'\n",
    "            stats[stat_names[i]] = [left_stat, right_stat]\n",
    "        \n",
    "        return stats\n",
    "    \n",
    "    def get_summary_stats(self) -> dict: \n",
    "        return self.get_stats('matchfacts-summary')\n",
    "\n",
    "    def get_passing_stats(self) -> dict: \n",
    "        return self.get_stats('matchfacts-passing')\n",
    "\n",
    "    def get_possession_stats(self) -> dict: \n",
    "        return self.get_stats('matchfacts-possession', cutoff=0.8)\n",
    "    "
   ]
  },
  {
   "cell_type": "code",
   "execution_count": 7,
   "id": "ff1ea7ac",
   "metadata": {},
   "outputs": [
    {
     "name": "stderr",
     "output_type": "stream",
     "text": [
      "c:\\Users\\aislam\\Documents\\fifa-match-analytics\\.venv\\Lib\\site-packages\\paddle\\utils\\cpp_extension\\extension_utils.py:715: UserWarning: No ccache found. Please be aware that recompiling all source files may be required. You can download and install ccache from: https://github.com/ccache/ccache/blob/master/doc/INSTALL.md\n",
      "  warnings.warn(warning_message)\n",
      "\u001b[32mCreating model: ('PP-OCRv5_server_det', None)\u001b[0m\n",
      "\u001b[32mUsing official model (PP-OCRv5_server_det), the model files will be automatically downloaded and saved in C:\\Users\\aislam\\.paddlex\\official_models.\u001b[0m\n",
      "Fetching 6 files: 100%|██████████| 6/6 [00:00<00:00, 161.45it/s]\n",
      "\u001b[32mCreating model: ('PP-OCRv5_server_rec', None)\u001b[0m\n",
      "\u001b[32mUsing official model (PP-OCRv5_server_rec), the model files will be automatically downloaded and saved in C:\\Users\\aislam\\.paddlex\\official_models.\u001b[0m\n",
      "Fetching 6 files: 100%|██████████| 6/6 [00:00<00:00, 166.82it/s]\n"
     ]
    }
   ],
   "source": [
    "img = Image.open('testdata/fifa22-matchfacts-summary.png')\n",
    "a = MatchFactsAnalyzer(image_width=img.width, image_height=img.height)"
   ]
  },
  {
   "cell_type": "code",
   "execution_count": 8,
   "id": "17331b52",
   "metadata": {},
   "outputs": [],
   "source": [
    "a.perform_ocr('testdata/fifa22-matchfacts-summary.png', 'matchfacts-summary')"
   ]
  },
  {
   "cell_type": "code",
   "execution_count": 9,
   "id": "48afcdc7",
   "metadata": {},
   "outputs": [
    {
     "data": {
      "text/plain": [
       "((5, 2),\n",
       " {'Possession %': [52.0, 48.0],\n",
       "  'Shots': [13.0, 14.0],\n",
       "  'Expected Goals': [4.7, 4.5],\n",
       "  'Passes': [106.0, 167.0],\n",
       "  'Tackles': [39.0, 9.0],\n",
       "  'Tackles Won': [16.0, 3.0],\n",
       "  'Interceptions': [16.0, 9.0],\n",
       "  'Saves': [5.0, 5.0],\n",
       "  'Fouls Commited': [1.0, 0.0],\n",
       "  'Offsides': [1.0, 0.0],\n",
       "  'Corners': [1.0, 2.0],\n",
       "  'Free Kicks': [0.0, 2.0],\n",
       "  'Penalty Kicks': [0.0, 0.0],\n",
       "  'Yellow Cards': [0.0, 0.0],\n",
       "  'Red Cards': [0.0, 0.0]})"
      ]
     },
     "execution_count": 9,
     "metadata": {},
     "output_type": "execute_result"
    }
   ],
   "source": [
    "a.get_score(), a.get_summary_stats()"
   ]
  },
  {
   "cell_type": "code",
   "execution_count": 10,
   "id": "efb721c3",
   "metadata": {},
   "outputs": [
    {
     "data": {
      "text/plain": [
       "{\"15'\": [36.0, 64.0],\n",
       " \"30'\": [53.0, 47.0],\n",
       " \"45'\": [45.0, 55.0],\n",
       " \"60'\": [44.0, 56.0],\n",
       " \"75'\": [69.0, 31.0],\n",
       " \"90'\": [56.0, 44.0]}"
      ]
     },
     "execution_count": 10,
     "metadata": {},
     "output_type": "execute_result"
    }
   ],
   "source": [
    "a.perform_ocr('testdata/fifa22-matchfacts-possession.png', 'matchfacts-possession')\n",
    "a.get_possession_stats()"
   ]
  },
  {
   "cell_type": "code",
   "execution_count": 11,
   "id": "3d313865",
   "metadata": {},
   "outputs": [
    {
     "data": {
      "text/plain": [
       "{'Total Passes': [106.0, 167.0],\n",
       " 'Completed': [83.0, 144.0],\n",
       " 'Intercepted': [8.0, 16.0],\n",
       " 'Offside': [2.0, 0.0],\n",
       " 'Ground': [57.0, 109.0],\n",
       " 'Lob': [0.0, 3.0],\n",
       " 'Through': [45.0, 26.0],\n",
       " 'Lofted Through': [0.0, 15.0],\n",
       " 'Cross': [0.0, 2.0],\n",
       " 'Set Pieces': [1.0, 4.0],\n",
       " 'Key Pass': [8.0, 17.0],\n",
       " 'First Time': [24.0, 56.0],\n",
       " 'Pass and Go': [1.0, 0.0],\n",
       " 'Down Wing': [0.0, 3.0],\n",
       " 'Breakaway': [12.0, 2.0]}"
      ]
     },
     "execution_count": 11,
     "metadata": {},
     "output_type": "execute_result"
    }
   ],
   "source": [
    "a.perform_ocr('testdata/fifa22-matchfacts-passing.png', 'matchfacts-passing')\n",
    "a.get_passing_stats()"
   ]
  }
 ],
 "metadata": {
  "kernelspec": {
   "display_name": ".venv",
   "language": "python",
   "name": "python3"
  },
  "language_info": {
   "codemirror_mode": {
    "name": "ipython",
    "version": 3
   },
   "file_extension": ".py",
   "mimetype": "text/x-python",
   "name": "python",
   "nbconvert_exporter": "python",
   "pygments_lexer": "ipython3",
   "version": "3.13.5"
  }
 },
 "nbformat": 4,
 "nbformat_minor": 5
}
