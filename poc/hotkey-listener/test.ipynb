{
 "cells": [
  {
   "cell_type": "code",
   "execution_count": 4,
   "id": "40146396",
   "metadata": {},
   "outputs": [],
   "source": [
    "from typing import Optional\n",
    "from ctypes import wintypes, windll, create_unicode_buffer\n",
    "\n",
    "def getForegroundWindowTitle() -> Optional[str]:\n",
    "    hWnd = windll.user32.GetForegroundWindow()\n",
    "    length = windll.user32.GetWindowTextLengthW(hWnd)\n",
    "    buf = create_unicode_buffer(length + 1)\n",
    "    windll.user32.GetWindowTextW(hWnd, buf, length + 1)\n",
    "    \n",
    "    # 1-liner alternative: return buf.value if buf.value else None\n",
    "    if buf.value:\n",
    "        return buf.value\n",
    "    else:\n",
    "        return None"
   ]
  },
  {
   "cell_type": "code",
   "execution_count": null,
   "id": "83cb64e9",
   "metadata": {},
   "outputs": [],
   "source": [
    "import pygetwindow as gw\n",
    "import pyautogui\n",
    "from PIL import ImageGrab\n",
    "\n",
    "def screenshot_specific_window(window_title, output_filename=\"window_screenshot.png\"):\n",
    "    \"\"\"\n",
    "    Takes a screenshot of a specific window and saves it to a file.\n",
    "\n",
    "    Args:\n",
    "        window_title (str): The title of the window to capture.\n",
    "        output_filename (str): The name of the file to save the screenshot.\n",
    "    \"\"\"\n",
    "    try:\n",
    "        target_window = gw.getWindowsWithTitle(window_title)\n",
    "        if not target_window:\n",
    "            print(f\"Window with title '{window_title}' not found.\")\n",
    "            return\n",
    "\n",
    "        target_window = target_window[0] # Get the first matching window\n",
    "\n",
    "        # Get window coordinates\n",
    "        left, top, width, height = target_window.left, target_window.top, target_window.width, target_window.height\n",
    "        right = left + width\n",
    "        bottom = top + height\n",
    "\n",
    "        # Capture the entire screen\n",
    "        screenshot = pyautogui.screenshot()\n",
    "\n",
    "        # Crop the screenshot to the target window's region\n",
    "        cropped_screenshot = screenshot.crop((left, top, right, bottom))\n",
    "\n",
    "        # Save the cropped screenshot\n",
    "        cropped_screenshot.save(output_filename)\n",
    "        print(f\"Screenshot of '{window_title}' saved as '{output_filename}'\")\n",
    "\n",
    "    except Exception as e:\n",
    "        print(f\"An error occurred: {e}\")"
   ]
  },
  {
   "cell_type": "code",
   "execution_count": 9,
   "id": "22a9af93",
   "metadata": {},
   "outputs": [],
   "source": [
    "windowTitle = getForegroundWindowTitle()"
   ]
  },
  {
   "cell_type": "code",
   "execution_count": 10,
   "id": "b33942a8",
   "metadata": {},
   "outputs": [
    {
     "name": "stdout",
     "output_type": "stream",
     "text": [
      "Screenshot of 'test.ipynb - fifa-match-analytics - Visual Studio Code' saved as 'output/window_screenshot.png'\n"
     ]
    }
   ],
   "source": [
    "screenshot_specific_window(windowTitle, 'output/window_screenshot.png')"
   ]
  }
 ],
 "metadata": {
  "kernelspec": {
   "display_name": ".venv",
   "language": "python",
   "name": "python3"
  },
  "language_info": {
   "codemirror_mode": {
    "name": "ipython",
    "version": 3
   },
   "file_extension": ".py",
   "mimetype": "text/x-python",
   "name": "python",
   "nbconvert_exporter": "python",
   "pygments_lexer": "ipython3",
   "version": "3.13.5"
  }
 },
 "nbformat": 4,
 "nbformat_minor": 5
}
